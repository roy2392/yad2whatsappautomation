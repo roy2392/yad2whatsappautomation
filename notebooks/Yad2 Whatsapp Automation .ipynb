{
 "cells":[
  {
   "cell_type":"code",
   "source":[
    "# import libaries \n",
    "import requests\n",
    "from twilio.rest import Client\n",
    "import os\n",
    "import json\n",
    "import time\n",
    "\n",
    "\n",
    "# Your Twilio account SID and auth token\n",
    "account_sid = 'AC2626a78c73e9e330af65c9010d29a1ce'\n",
    "auth_token = '#####################################'" 
   ],
   "execution_count":77,
   "outputs":[
    
   ],
   "metadata":{
    "datalore":{
     "node_id":"JkAkd3tfX1wxbp2HRTsuu4",
     "type":"CODE",
     "hide_input_from_viewers":false,
     "hide_output_from_viewers":false
    }
   }
  },
  {
   "cell_type":"code",
   "source":[
    "# Hod Hasharon\n",
    "url = \"https:\/\/gw.yad2.co.il\/feed-search-legacy\/realestate\/rent\"\n",
    "params = {\n",
    "    'topArea': 19,\n",
    "    'area': 54,\n",
    "    'city': 9700,\n",
    "    'rooms': '2-4',\n",
    "    'price': '0-5000',\n",
    "    'forceLdLoad': True\n",
    "}\n",
    "response = requests.get(url, params=params)"
   ],
   "execution_count":78,
   "outputs":[
    
   ],
   "metadata":{
    "datalore":{
     "node_id":"3XAFILizf27yIQO8QdIXih",
     "type":"CODE",
     "hide_input_from_viewers":false,
     "hide_output_from_viewers":false
    }
   }
  },
  {
   "cell_type":"code",
   "source":[
    "json_object = response.json()\n",
    "\n",
    "feed_items = json_object[\"data\"][\"feed\"][\"feed_items\"]\n",
    "\n",
    "result = feed_items\n",
    "\n",
    "with open(\"new.txt\", \"w\") as f:\n",
    "        for item in result:\n",
    "            if item[\"type\"] == \"ad\":\n",
    "                f.write(f'{item[\"row_1\"]} {item[\"row_2\"]} {item[\"row_3\"]}\\n')\n",
    "with open('new.txt', 'r') as f:\n",
    "    lines = f.readlines()\n",
    "    lines = sorted(set(lines))\n",
    "\n",
    "with open('new.txt', 'w') as f:\n",
    "    f.writelines(lines)\n",
    "with open('new.txt', 'r') as new_file:\n",
    "    new_lines = new_file.readlines()\n",
    "    \n",
    "diff_lines = []\n",
    "\n",
    "diff_lines.append(new_lines)\n",
    "message = diff_lines"
   ],
   "execution_count":79,
   "outputs":[
    
   ],
   "metadata":{
    "datalore":{
     "node_id":"qGrgVrkfW2Pgsne9AwQT4V",
     "type":"CODE",
     "hide_input_from_viewers":false,
     "hide_output_from_viewers":false
    }
   }
  },
  {
   "cell_type":"code",
   "source":[
    "# Send the WhatsApp message with the new listings\n",
    "client = Client(account_sid, auth_token)\n",
    "message = client.messages.create( \n",
    "                              from_='whatsapp:+14155238886',  \n",
    "                              body=message,\n",
    "                              to='whatsapp:+972528978214'\n",
    "                          ) \n",
    " \n",
    "print(message.sid)"
   ],
   "execution_count":80,
   "outputs":[
    {
     "name":"stdout",
     "text":[
      "SM765d05ab0fca1f2360b54332d00dbe59\n"
     ],
     "output_type":"stream"
    }
   ],
   "metadata":{
    "datalore":{
     "node_id":"O5ODTQFVsZVBNjNkMpDCYM",
     "type":"CODE",
     "hide_input_from_viewers":false,
     "hide_output_from_viewers":false
    }
   }
  }
 ],
 "metadata":{
  "kernelspec":{
   "display_name":"Python",
   "language":"python",
   "name":"python"
  },
  "datalore":{
   "version":1,
   "computation_mode":"JUPYTER",
   "package_manager":"pip",
   "base_environment":"default",
   "packages":[
    {
     "name":"twilio",
     "version":"7.16.0",
     "source":"PIP"
    }
   ]
  }
 },
 "nbformat":4,
 "nbformat_minor":4
}
